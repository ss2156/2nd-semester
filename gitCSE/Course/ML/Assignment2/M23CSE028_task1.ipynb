{
 "cells": [
  {
   "cell_type": "markdown",
   "metadata": {},
   "source": [
    "# K-Means Algorithm"
   ]
  },
  {
   "cell_type": "markdown",
   "metadata": {},
   "source": [
    "In this Jupyter Notebook we will focus on K-Means algorithm. K-means is an entry level clusterization algorithm. Clusterization is subdomain of Machine Learning which is all about finding hidden patterns in datasets. K-means is so called unsupervised learning method. In contrast to traditional methods in unsupervised methods we have data points, but we don't have labels. Based on distances between data algorithm finds k groups of points in a given dataset.\n",
    " \n",
    "K menas finds k (iteger e.g 2 or 16 etc.) groups of data in a given dataset and it make it ONLY based on their place in a given space (e.g $R^2$. or $R^3$). Algorithm is quite simple but suprasingly effective. We inicialize  k random points (called centroids) in a given space. Then we find points closest to each centroid and from that points we form a group. Mean value for each group is new centroid. We repeat algorithm as long as our centroids \"move\" more then some threshold value $\\Delta$\n",
    "\n",
    "Number k depends on a sytuation and problem. For example we want to reduce number of colors in the image in order to compress its size. We find 256 the most important colors and we replace color of each pixel with one of those 256 colors (the closest one to the original pixel value)."
   ]
  },
  {
   "cell_type": "markdown",
   "metadata": {},
   "source": [
    "## K-means steps\n",
    "\n",
    "1. Select $k$ random points as initial centroids\n",
    "2. Count distances between points in dataset and centroids\n",
    "3. Assign each point to closest centroid\n",
    "4. Find mean or each group of points and set it as new centroids\n",
    "5. Check if centroids moved more then some $\\Delta$. If no - repeat steps 2-5, if yes - algorithm covered, we found $k$ centroids for given data"
   ]
  },
  {
   "cell_type": "markdown",
   "metadata": {},
   "source": [
    "## Imports"
   ]
  },
  {
   "cell_type": "code",
   "execution_count": 1,
   "metadata": {},
   "outputs": [],
   "source": [
    "import sys,os\n",
    "import numpy as np\n",
    "import pandas as pd\n",
    "import multiprocessing as mp\n",
    "import random\n",
    "from functools import reduce\n",
    "import time\n",
    "import random\n",
    "import matplotlib.pyplot as plt\n",
    "from collections import defaultdict\n",
    "from sklearn.metrics.pairwise import cosine_similarity"
   ]
  },
  {
   "cell_type": "markdown",
   "metadata": {},
   "source": [
    "## Load Data"
   ]
  },
  {
   "cell_type": "code",
   "execution_count": 2,
   "metadata": {},
   "outputs": [],
   "source": [
    "def loadData(fileName, labeled=True):\n",
    "    mnist_data = pd.read_csv(fileName)\n",
    "    if labeled:\n",
    "        label = np.array(mnist_data[\"label\"])\n",
    "        data = np.array(mnist_data.iloc[:, 1:])\n",
    "        return data, label\n",
    "    else:\n",
    "        return np.array(mnist_data.iloc[:, 1:])"
   ]
  },
  {
   "cell_type": "markdown",
   "metadata": {},
   "source": [
    "# Select $k$ random points as initial centroids\n",
    "\n",
    "As initial centroids we take k random, unique points from dataset. We take unique points to avoid a situation where there is a centroid without any points."
   ]
  },
  {
   "cell_type": "code",
   "execution_count": 3,
   "metadata": {},
   "outputs": [],
   "source": [
    "def init_centroids(data):\n",
    "    return random.sample(list(data), 10)"
   ]
  },
  {
   "cell_type": "markdown",
   "metadata": {},
   "source": [
    "# Count distances between points in dataset and centroids"
   ]
  },
  {
   "cell_type": "markdown",
   "metadata": {},
   "source": [
    "In order to form a group (based on whitch we will find new centroid) we need to find centroid closest each data point in dataset. Depending on Your problem You can use diffrent methods of mesuring the distance between centroids and data points. \n",
    "\n",
    "For our problem euclidean distance is fine. To compute it in an effective way we will make use of matrix methods from numpy package, which are much more efficient than loops. "
   ]
  },
  {
   "cell_type": "markdown",
   "metadata": {},
   "source": [
    "$A = \\begin{bmatrix}\n",
    "       a & b \\\\\n",
    "       c & d \\\\\n",
    "       e & f \\\\\n",
    "     \\end{bmatrix} \\space B = \\begin{bmatrix}\n",
    "       g & h \\\\\n",
    "     \\end{bmatrix}$    \n",
    "     \n",
    "$DistanceMatrix = \\begin{bmatrix}\n",
    "                   \\sqrt{(a-g)^2 + (b-h)^2} \\\\\n",
    "                   \\sqrt{(c-g)^2 + (d-h)^2} \\\\\n",
    "                   \\sqrt{(e-g)^2 + (f-h)^2} \\\\\n",
    "                 \\end{bmatrix} = \\sqrt{\\begin{bmatrix}\n",
    "                                  a^2 + b^2 \\\\\n",
    "                                  c^2 + d^2 \\\\\n",
    "                                  e^2 + f^2 \\\\\n",
    "                                  \\end{bmatrix} + \\begin{bmatrix}\n",
    "                                  g^2 + h^2 \\\\\n",
    "                                  g^2 + h^2 \\\\\n",
    "                                  g^2 + h^2 \\\\\n",
    "                                  \\end{bmatrix} - 2\\begin{bmatrix}\n",
    "                                  a*g + b*h \\\\\n",
    "                                  c*g + d*h \\\\\n",
    "                                  e*g + f*h \\\\\n",
    "                                  \\end{bmatrix}} = \\sqrt{(A*A)_{column \\space sum} + (B*B)_{column \\space sum} - 2*AB^T}$   \n",
    "                                  \n",
    "                                  \n",
    "<br>\n",
    "\n",
    "For example we have 3 points in dataset matrix $A = \\begin{bmatrix}1 & 2 \\\\ 2 & 3 \\\\ 3 & 4 \\end{bmatrix}$ and 1 point in centroid matrix $B = \\begin{bmatrix}0 & 1 \\end{bmatrix}$ \n",
    "\n",
    "Euklidean distance between points in $A$ and $B$ = $\\sqrt{\\begin{bmatrix}(1-0)^2 + (2-1)^2 \\\\(2-0)^2 + (3-1)^2 \\\\ (3-0)^2 + (4-1)^2 \\\\ \\end{bmatrix}} = \\begin{bmatrix}\\sqrt{2} \\\\ \\sqrt{8} \\\\ \\sqrt{18} \\\\ \\end{bmatrix} $ \n",
    "\n",
    "\n",
    "*$\\sqrt{\\begin{bmatrix}1 & 2 \\\\ 2 & 3 \\\\ 3 & 4 \\end{bmatrix}}$ this is not a 100 percent correct mathematical notation but it is intended to give you some idea of what is going on"
   ]
  },
  {
   "cell_type": "code",
   "execution_count": 5,
   "metadata": {},
   "outputs": [],
   "source": [
    "def form_cluster(centroids, data):\n",
    "    centroids_indices = range(len(centroids))\n",
    "    clusters = {x: [] for x in centroids_indices}\n",
    "    for xi in data:\n",
    "        max_similarity = -1  # Initialize with a minimum value\n",
    "        for cj_index in centroids_indices:\n",
    "            cj = centroids[cj_index]\n",
    "            similarity = cosine_similarity([xi], [cj])[0][0]\n",
    "            if similarity > max_similarity:\n",
    "                closest_centroid_index = cj_index\n",
    "                max_similarity = similarity\n",
    "        clusters[closest_centroid_index].append(xi)\n",
    "    return clusters.values()"
   ]
  },
  {
   "cell_type": "markdown",
   "metadata": {},
   "source": [
    "# Find new clusters"
   ]
  },
  {
   "cell_type": "markdown",
   "metadata": {},
   "source": [
    "For each centroid assign closest points from dataset"
   ]
  },
  {
   "cell_type": "code",
   "execution_count": 7,
   "metadata": {},
   "outputs": [],
   "source": [
    "def move_centroids(clusters):\n",
    "    new_centroids = []\n",
    "    for cluster in clusters:\n",
    "        cluster_array = np.array(cluster)\n",
    "        if len(cluster_array) > 0:\n",
    "            mean_vector = np.mean(cluster_array, axis=0)\n",
    "            new_centroids.append(mean_vector)\n",
    "    return new_centroids"
   ]
  },
  {
   "cell_type": "markdown",
   "metadata": {},
   "source": [
    "# Check if clusters changed"
   ]
  },
  {
   "cell_type": "markdown",
   "metadata": {},
   "source": [
    "To stop algorithm we need to chceck if centroids are still \"moving\". To do that we count distance between old centroids and new centroids (corresponding centroids lie on the main diagonal of distance matrix) and if all of distances are smaller then $\\Delta$ paramter we know that algorithm had covered and we reached final centroids"
   ]
  },
  {
   "cell_type": "code",
   "execution_count": 9,
   "metadata": {},
   "outputs": [],
   "source": [
    "def repeat_until_convergence(data, clusters, centroids):\n",
    "    pre_max_diff = 0\n",
    "    while True:\n",
    "        old_centroids = centroids\n",
    "        centroids = move_centroids(clusters)\n",
    "        clusters = form_cluster(centroids, data)\n",
    "        differences = map(lambda x, y: np.linalg.norm(x - y), old_centroids, centroids)\n",
    "        max_diff = max(differences)\n",
    "        diff_change = abs((max_diff - pre_max_diff) / np.mean([pre_max_diff, max_diff])) * 100\n",
    "        pre_max_diff = max_diff\n",
    "        if np.isnan(diff_change):\n",
    "            print(\"Stop worker process id: {0}\".format(os.getpid()))\n",
    "            break\n",
    "    return clusters, centroids"
   ]
  },
  {
   "cell_type": "markdown",
   "metadata": {},
   "source": [
    "# Summary\n"
   ]
  },
  {
   "cell_type": "markdown",
   "metadata": {},
   "source": [
    "We managed to create an effective clustering algorithm. We showed how it works on the example of color reduction. The same algortym can be effectively used for many problems from different areas by changing only the input X, the number of classes k and possibly the method of measuring distances."
   ]
  }
 ],
 "metadata": {
  "kernelspec": {
   "display_name": "Python 3",
   "language": "python",
   "name": "python3"
  },
  "language_info": {
   "codemirror_mode": {
    "name": "ipython",
    "version": 3
   },
   "file_extension": ".py",
   "mimetype": "text/x-python",
   "name": "python",
   "nbconvert_exporter": "python",
   "pygments_lexer": "ipython3",
   "version": "3.6.5"
  }
 },
 "nbformat": 4,
 "nbformat_minor": 2
}
