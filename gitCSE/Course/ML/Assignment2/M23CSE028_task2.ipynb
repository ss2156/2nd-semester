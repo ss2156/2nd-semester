{
 "cells": [
  {
   "cell_type": "code",
   "execution_count": null,
   "metadata": {},
   "outputs": [],
   "source": [
    "import numpy as np\n",
    "import pandas as pd\n",
    "from sklearn.mixture import GaussianMixture\n",
    "import matplotlib.pyplot as plt\n",
    "from collections import defaultdict"
   ]
  },
  {
   "cell_type": "markdown",
   "metadata": {},
   "source": [
    "# Load the MNIST dataset    \n",
    "    \"\"\"\n",
    "    Loads the MNIST dataset from a CSV file.\n",
    "\n",
    "    Parameters:\n",
    "    - fileName (str): The name of the CSV file.\n",
    "    - labeled (bool): Whether the dataset includes labels.\n",
    "\n",
    "    Returns:\n",
    "    - data (numpy.ndarray): The dataset.\n",
    "    - label (numpy.ndarray): The labels (if labeled is True).\n",
    "    \"\"\""
   ]
  },
  {
   "cell_type": "code",
   "execution_count": null,
   "metadata": {},
   "outputs": [],
   "source": [
    "def loadData(fileName, labeled=True):\n",
    "    mnist_data = pd.read_csv(fileName)\n",
    "    if labeled:\n",
    "        label = np.array(mnist_data[\"label\"])\n",
    "        data = np.array(mnist_data.iloc[:, 1:])\n",
    "        return data, label\n",
    "    else:\n",
    "        return np.array(mnist_data.iloc[:, 1:])"
   ]
  },
  {
   "cell_type": "markdown",
   "metadata": {},
   "source": [
    "# Perfrom PCA\n",
    "    \"\"\"\n",
    "    Perform Principal Component Analysis (PCA) on the dataset.\n",
    "\n",
    "    Parameters:\n",
    "    - X (numpy.ndarray): The dataset.\n",
    "    - num_components (int): The number of PCA components.\n",
    "\n",
    "    Returns:\n",
    "    - reduced_data (numpy.ndarray): The reduced dataset.\n",
    "    \"\"\""
   ]
  },
  {
   "cell_type": "code",
   "execution_count": null,
   "metadata": {},
   "outputs": [],
   "source": [
    "def pca(X, num_components):\n",
    "    # Center the data\n",
    "    mean = np.mean(X, axis=0)\n",
    "    centered_data = X - mean\n",
    "\n",
    "    # Calculate the covariance matrix\n",
    "    cov_matrix = np.cov(centered_data, rowvar=False)\n",
    "\n",
    "    # Compute the eigenvalues and eigenvectors\n",
    "    eigenvalues, eigenvectors = np.linalg.eigh(cov_matrix)\n",
    "\n",
    "    # Sort eigenvectors and eigenvalues in descending order\n",
    "    sorted_indices = np.argsort(eigenvalues)[::-1]\n",
    "    eigenvalues = eigenvalues[sorted_indices]\n",
    "    eigenvectors = eigenvectors[:, sorted_indices]\n",
    "\n",
    "    # Select the top 'num_components' eigenvectors\n",
    "    top_eigenvectors = eigenvectors[:, :num_components]\n",
    "\n",
    "    # Project the data onto the top eigenvectors\n",
    "    reduced_data = np.dot(centered_data, top_eigenvectors)\n",
    "\n",
    "    return reduced_data"
   ]
  },
  {
   "cell_type": "markdown",
   "metadata": {},
   "source": [
    "# Perform GMM clustering\n",
    "    \"\"\"\n",
    "    Perform Gaussian Mixture Model (GMM) clustering on the dataset.\n",
    "\n",
    "    Parameters:\n",
    "    - data (numpy.ndarray): The dataset.\n",
    "    - num_clusters (int): The number of clusters.\n",
    "\n",
    "    Returns:\n",
    "    - labels (numpy.ndarray): Cluster labels.\n",
    "    \"\"\""
   ]
  },
  {
   "cell_type": "code",
   "execution_count": null,
   "metadata": {},
   "outputs": [],
   "source": [
    "def gmm_clustering(data, num_clusters):\n",
    "    gmm = GaussianMixture(n_components=num_clusters, random_state=0)\n",
    "    gmm.fit(data)\n",
    "    labels = gmm.predict(data)\n",
    "    return labels"
   ]
  },
  {
   "cell_type": "markdown",
   "metadata": {},
   "source": [
    "# Show clustered images in a grid\n",
    "    \"\"\"\n",
    "    Display images in a grid.\n",
    "\n",
    "    Parameters:\n",
    "    - digitsData (numpy.ndarray): Image data.\n",
    "    - digitsLabel (numpy.ndarray): Labels.\n",
    "    - num_rows (int): Number of rows in the grid.\n",
    "    - num_cols (int): Number of columns in the grid.\n",
    "    \"\"\""
   ]
  },
  {
   "cell_type": "code",
   "execution_count": null,
   "metadata": {},
   "outputs": [],
   "source": [
    "def showDigitInGrid(digitsData, digitsLabel=None, num_rows=None, num_cols=None):\n",
    "    num_images = len(digitsData)\n",
    "    \n",
    "    if num_rows is None or num_cols is None:\n",
    "        num_rows = int(np.sqrt(num_images))\n",
    "        num_cols = int(np.ceil(num_images / num_rows))\n",
    "    \n",
    "    plt.figure(figsize=(12, 8))\n",
    "    for i in range(num_images):\n",
    "        plt.subplot(num_rows, num_cols, i + 1)\n",
    "        plt.title(str(digitsLabel[i]) if digitsLabel is not None else '')\n",
    "        plt.imshow(digitsData[i].reshape(28, 28), interpolation='bicubic', cmap='Greys')\n",
    "        plt.xticks([])\n",
    "        plt.yticks([])\n",
    "\n",
    "    plt.tight_layout()"
   ]
  },
  {
   "cell_type": "markdown",
   "metadata": {},
   "source": [
    "# Summary\n",
    "## Usage\n",
    "\n",
    "    Load the MNIST Dataset:\n",
    "        The loadData function loads the MNIST dataset from a CSV file.\n",
    "\n",
    "    Perform PCA:\n",
    "        The pca function performs Principal Component Analysis on the dataset.\n",
    "        It centers the data, calculates the covariance matrix, and selects the top 'num_components' eigenvectors.\n",
    "\n",
    "    Perform GMM Clustering:\n",
    "        The gmm_clustering function applies Gaussian Mixture Model clustering on the reduced dataset.\n",
    "\n",
    "    Show Clustered Images:\n",
    "        The showDigitInGrid function displays clustered images in a grid.\n",
    "        It can be used to visualize the results of clustering.\n",
    "\n",
    "    Main Function:\n",
    "        The main function defines combinations of PCA components and GMM clusters.\n",
    "        It calls the functions to perform PCA and clustering for each combination.\n",
    "\n",
    "    Run the Script:\n",
    "        Execute the script to perform PCA, GMM clustering, and image visualization.\n",
    "        Images of clustered digits will be saved in files with appropriate names.\n",
    "\n",
    "## Example Combinations\n",
    "\n",
    "    PCA Components: [32, 64, 128]\n",
    "    GMM Clusters: [10, 7, 4]\n",
    "\n",
    "## Output\n",
    "\n",
    "The script generates images that visualize the clustered digits for various combinations of PCA components and GMM clusters. Each image is saved with a filename indicating the specific combination."
   ]
  }
 ],
 "metadata": {
  "language_info": {
   "name": "python"
  }
 },
 "nbformat": 4,
 "nbformat_minor": 2
}
